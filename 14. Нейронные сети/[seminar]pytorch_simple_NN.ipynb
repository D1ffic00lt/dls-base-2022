{
 "nbformat": 4,
 "nbformat_minor": 0,
 "metadata": {
  "colab": {
   "name": "[seminar]pytorch_simple_NN.ipynb",
   "provenance": [],
   "collapsed_sections": []
  },
  "kernelspec": {
   "name": "python3",
   "display_name": "Python 3"
  },
  "accelerator": "GPU",
  "widgets": {
   "application/vnd.jupyter.widget-state+json": {
    "00013dc198644cc7b60a2205fabcfa06": {
     "model_module": "@jupyter-widgets/controls",
     "model_name": "HBoxModel",
     "model_module_version": "1.5.0",
     "state": {
      "_view_name": "HBoxView",
      "_dom_classes": [],
      "_model_name": "HBoxModel",
      "_view_module": "@jupyter-widgets/controls",
      "_model_module_version": "1.5.0",
      "_view_count": null,
      "_view_module_version": "1.5.0",
      "box_style": "",
      "layout": "IPY_MODEL_cea003fada754b7a9e1a2e91571614d1",
      "_model_module": "@jupyter-widgets/controls",
      "children": [
       "IPY_MODEL_a8006e304cd14bb7849c934262965e7d",
       "IPY_MODEL_6859abdfde5f4b79ba5a24e882b3375f",
       "IPY_MODEL_8aa04af163294be5917fcdc1d3c23532"
      ]
     }
    },
    "cea003fada754b7a9e1a2e91571614d1": {
     "model_module": "@jupyter-widgets/base",
     "model_name": "LayoutModel",
     "model_module_version": "1.2.0",
     "state": {
      "_view_name": "LayoutView",
      "grid_template_rows": null,
      "right": null,
      "justify_content": null,
      "_view_module": "@jupyter-widgets/base",
      "overflow": null,
      "_model_module_version": "1.2.0",
      "_view_count": null,
      "flex_flow": null,
      "width": null,
      "min_width": null,
      "border": null,
      "align_items": null,
      "bottom": null,
      "_model_module": "@jupyter-widgets/base",
      "top": null,
      "grid_column": null,
      "overflow_y": null,
      "overflow_x": null,
      "grid_auto_flow": null,
      "grid_area": null,
      "grid_template_columns": null,
      "flex": null,
      "_model_name": "LayoutModel",
      "justify_items": null,
      "grid_row": null,
      "max_height": null,
      "align_content": null,
      "visibility": null,
      "align_self": null,
      "height": null,
      "min_height": null,
      "padding": null,
      "grid_auto_rows": null,
      "grid_gap": null,
      "max_width": null,
      "order": null,
      "_view_module_version": "1.2.0",
      "grid_template_areas": null,
      "object_position": null,
      "object_fit": null,
      "grid_auto_columns": null,
      "margin": null,
      "display": null,
      "left": null
     }
    },
    "a8006e304cd14bb7849c934262965e7d": {
     "model_module": "@jupyter-widgets/controls",
     "model_name": "HTMLModel",
     "model_module_version": "1.5.0",
     "state": {
      "_view_name": "HTMLView",
      "style": "IPY_MODEL_784c7aba575645c090ac1ed1b0468a93",
      "_dom_classes": [],
      "description": "",
      "_model_name": "HTMLModel",
      "placeholder": "​",
      "_view_module": "@jupyter-widgets/controls",
      "_model_module_version": "1.5.0",
      "value": "",
      "_view_count": null,
      "_view_module_version": "1.5.0",
      "description_tooltip": null,
      "_model_module": "@jupyter-widgets/controls",
      "layout": "IPY_MODEL_38fd7fa23ba44407885bcc8aa63c97bd"
     }
    },
    "6859abdfde5f4b79ba5a24e882b3375f": {
     "model_module": "@jupyter-widgets/controls",
     "model_name": "FloatProgressModel",
     "model_module_version": "1.5.0",
     "state": {
      "_view_name": "ProgressView",
      "style": "IPY_MODEL_fd459523dfa0494b99911f59e4ea1670",
      "_dom_classes": [],
      "description": "",
      "_model_name": "FloatProgressModel",
      "bar_style": "success",
      "max": 9912422,
      "_view_module": "@jupyter-widgets/controls",
      "_model_module_version": "1.5.0",
      "value": 9912422,
      "_view_count": null,
      "_view_module_version": "1.5.0",
      "orientation": "horizontal",
      "min": 0,
      "description_tooltip": null,
      "_model_module": "@jupyter-widgets/controls",
      "layout": "IPY_MODEL_c128fcaebc904193874ef8067ccb17f1"
     }
    },
    "8aa04af163294be5917fcdc1d3c23532": {
     "model_module": "@jupyter-widgets/controls",
     "model_name": "HTMLModel",
     "model_module_version": "1.5.0",
     "state": {
      "_view_name": "HTMLView",
      "style": "IPY_MODEL_051093fdc05144bc94ae60cf793660cf",
      "_dom_classes": [],
      "description": "",
      "_model_name": "HTMLModel",
      "placeholder": "​",
      "_view_module": "@jupyter-widgets/controls",
      "_model_module_version": "1.5.0",
      "value": " 9913344/? [00:00&lt;00:00, 21258209.59it/s]",
      "_view_count": null,
      "_view_module_version": "1.5.0",
      "description_tooltip": null,
      "_model_module": "@jupyter-widgets/controls",
      "layout": "IPY_MODEL_c379c399cee14c90866b84dd98c7387b"
     }
    },
    "784c7aba575645c090ac1ed1b0468a93": {
     "model_module": "@jupyter-widgets/controls",
     "model_name": "DescriptionStyleModel",
     "model_module_version": "1.5.0",
     "state": {
      "_view_name": "StyleView",
      "_model_name": "DescriptionStyleModel",
      "description_width": "",
      "_view_module": "@jupyter-widgets/base",
      "_model_module_version": "1.5.0",
      "_view_count": null,
      "_view_module_version": "1.2.0",
      "_model_module": "@jupyter-widgets/controls"
     }
    },
    "38fd7fa23ba44407885bcc8aa63c97bd": {
     "model_module": "@jupyter-widgets/base",
     "model_name": "LayoutModel",
     "model_module_version": "1.2.0",
     "state": {
      "_view_name": "LayoutView",
      "grid_template_rows": null,
      "right": null,
      "justify_content": null,
      "_view_module": "@jupyter-widgets/base",
      "overflow": null,
      "_model_module_version": "1.2.0",
      "_view_count": null,
      "flex_flow": null,
      "width": null,
      "min_width": null,
      "border": null,
      "align_items": null,
      "bottom": null,
      "_model_module": "@jupyter-widgets/base",
      "top": null,
      "grid_column": null,
      "overflow_y": null,
      "overflow_x": null,
      "grid_auto_flow": null,
      "grid_area": null,
      "grid_template_columns": null,
      "flex": null,
      "_model_name": "LayoutModel",
      "justify_items": null,
      "grid_row": null,
      "max_height": null,
      "align_content": null,
      "visibility": null,
      "align_self": null,
      "height": null,
      "min_height": null,
      "padding": null,
      "grid_auto_rows": null,
      "grid_gap": null,
      "max_width": null,
      "order": null,
      "_view_module_version": "1.2.0",
      "grid_template_areas": null,
      "object_position": null,
      "object_fit": null,
      "grid_auto_columns": null,
      "margin": null,
      "display": null,
      "left": null
     }
    },
    "fd459523dfa0494b99911f59e4ea1670": {
     "model_module": "@jupyter-widgets/controls",
     "model_name": "ProgressStyleModel",
     "model_module_version": "1.5.0",
     "state": {
      "_view_name": "StyleView",
      "_model_name": "ProgressStyleModel",
      "description_width": "",
      "_view_module": "@jupyter-widgets/base",
      "_model_module_version": "1.5.0",
      "_view_count": null,
      "_view_module_version": "1.2.0",
      "bar_color": null,
      "_model_module": "@jupyter-widgets/controls"
     }
    },
    "c128fcaebc904193874ef8067ccb17f1": {
     "model_module": "@jupyter-widgets/base",
     "model_name": "LayoutModel",
     "model_module_version": "1.2.0",
     "state": {
      "_view_name": "LayoutView",
      "grid_template_rows": null,
      "right": null,
      "justify_content": null,
      "_view_module": "@jupyter-widgets/base",
      "overflow": null,
      "_model_module_version": "1.2.0",
      "_view_count": null,
      "flex_flow": null,
      "width": null,
      "min_width": null,
      "border": null,
      "align_items": null,
      "bottom": null,
      "_model_module": "@jupyter-widgets/base",
      "top": null,
      "grid_column": null,
      "overflow_y": null,
      "overflow_x": null,
      "grid_auto_flow": null,
      "grid_area": null,
      "grid_template_columns": null,
      "flex": null,
      "_model_name": "LayoutModel",
      "justify_items": null,
      "grid_row": null,
      "max_height": null,
      "align_content": null,
      "visibility": null,
      "align_self": null,
      "height": null,
      "min_height": null,
      "padding": null,
      "grid_auto_rows": null,
      "grid_gap": null,
      "max_width": null,
      "order": null,
      "_view_module_version": "1.2.0",
      "grid_template_areas": null,
      "object_position": null,
      "object_fit": null,
      "grid_auto_columns": null,
      "margin": null,
      "display": null,
      "left": null
     }
    },
    "051093fdc05144bc94ae60cf793660cf": {
     "model_module": "@jupyter-widgets/controls",
     "model_name": "DescriptionStyleModel",
     "model_module_version": "1.5.0",
     "state": {
      "_view_name": "StyleView",
      "_model_name": "DescriptionStyleModel",
      "description_width": "",
      "_view_module": "@jupyter-widgets/base",
      "_model_module_version": "1.5.0",
      "_view_count": null,
      "_view_module_version": "1.2.0",
      "_model_module": "@jupyter-widgets/controls"
     }
    },
    "c379c399cee14c90866b84dd98c7387b": {
     "model_module": "@jupyter-widgets/base",
     "model_name": "LayoutModel",
     "model_module_version": "1.2.0",
     "state": {
      "_view_name": "LayoutView",
      "grid_template_rows": null,
      "right": null,
      "justify_content": null,
      "_view_module": "@jupyter-widgets/base",
      "overflow": null,
      "_model_module_version": "1.2.0",
      "_view_count": null,
      "flex_flow": null,
      "width": null,
      "min_width": null,
      "border": null,
      "align_items": null,
      "bottom": null,
      "_model_module": "@jupyter-widgets/base",
      "top": null,
      "grid_column": null,
      "overflow_y": null,
      "overflow_x": null,
      "grid_auto_flow": null,
      "grid_area": null,
      "grid_template_columns": null,
      "flex": null,
      "_model_name": "LayoutModel",
      "justify_items": null,
      "grid_row": null,
      "max_height": null,
      "align_content": null,
      "visibility": null,
      "align_self": null,
      "height": null,
      "min_height": null,
      "padding": null,
      "grid_auto_rows": null,
      "grid_gap": null,
      "max_width": null,
      "order": null,
      "_view_module_version": "1.2.0",
      "grid_template_areas": null,
      "object_position": null,
      "object_fit": null,
      "grid_auto_columns": null,
      "margin": null,
      "display": null,
      "left": null
     }
    },
    "284568611e2c49a2a556fee02d44c878": {
     "model_module": "@jupyter-widgets/controls",
     "model_name": "HBoxModel",
     "model_module_version": "1.5.0",
     "state": {
      "_view_name": "HBoxView",
      "_dom_classes": [],
      "_model_name": "HBoxModel",
      "_view_module": "@jupyter-widgets/controls",
      "_model_module_version": "1.5.0",
      "_view_count": null,
      "_view_module_version": "1.5.0",
      "box_style": "",
      "layout": "IPY_MODEL_c86a9f9d72e34155a99040b25aa181af",
      "_model_module": "@jupyter-widgets/controls",
      "children": [
       "IPY_MODEL_e413d45b251b4cfb945758ea82cf1d76",
       "IPY_MODEL_9d51af91dd514a93ae5ac4b378a2e053",
       "IPY_MODEL_ffb7a36fbe5b4debb2938314d1556df1"
      ]
     }
    },
    "c86a9f9d72e34155a99040b25aa181af": {
     "model_module": "@jupyter-widgets/base",
     "model_name": "LayoutModel",
     "model_module_version": "1.2.0",
     "state": {
      "_view_name": "LayoutView",
      "grid_template_rows": null,
      "right": null,
      "justify_content": null,
      "_view_module": "@jupyter-widgets/base",
      "overflow": null,
      "_model_module_version": "1.2.0",
      "_view_count": null,
      "flex_flow": null,
      "width": null,
      "min_width": null,
      "border": null,
      "align_items": null,
      "bottom": null,
      "_model_module": "@jupyter-widgets/base",
      "top": null,
      "grid_column": null,
      "overflow_y": null,
      "overflow_x": null,
      "grid_auto_flow": null,
      "grid_area": null,
      "grid_template_columns": null,
      "flex": null,
      "_model_name": "LayoutModel",
      "justify_items": null,
      "grid_row": null,
      "max_height": null,
      "align_content": null,
      "visibility": null,
      "align_self": null,
      "height": null,
      "min_height": null,
      "padding": null,
      "grid_auto_rows": null,
      "grid_gap": null,
      "max_width": null,
      "order": null,
      "_view_module_version": "1.2.0",
      "grid_template_areas": null,
      "object_position": null,
      "object_fit": null,
      "grid_auto_columns": null,
      "margin": null,
      "display": null,
      "left": null
     }
    },
    "e413d45b251b4cfb945758ea82cf1d76": {
     "model_module": "@jupyter-widgets/controls",
     "model_name": "HTMLModel",
     "model_module_version": "1.5.0",
     "state": {
      "_view_name": "HTMLView",
      "style": "IPY_MODEL_85c7dae5b8544f2e8700673c3b657f8a",
      "_dom_classes": [],
      "description": "",
      "_model_name": "HTMLModel",
      "placeholder": "​",
      "_view_module": "@jupyter-widgets/controls",
      "_model_module_version": "1.5.0",
      "value": "",
      "_view_count": null,
      "_view_module_version": "1.5.0",
      "description_tooltip": null,
      "_model_module": "@jupyter-widgets/controls",
      "layout": "IPY_MODEL_99898108ef484ce7bbf9abfd6cee291c"
     }
    },
    "9d51af91dd514a93ae5ac4b378a2e053": {
     "model_module": "@jupyter-widgets/controls",
     "model_name": "FloatProgressModel",
     "model_module_version": "1.5.0",
     "state": {
      "_view_name": "ProgressView",
      "style": "IPY_MODEL_8c41025ec98c48aea3dfd2490ee958aa",
      "_dom_classes": [],
      "description": "",
      "_model_name": "FloatProgressModel",
      "bar_style": "success",
      "max": 28881,
      "_view_module": "@jupyter-widgets/controls",
      "_model_module_version": "1.5.0",
      "value": 28881,
      "_view_count": null,
      "_view_module_version": "1.5.0",
      "orientation": "horizontal",
      "min": 0,
      "description_tooltip": null,
      "_model_module": "@jupyter-widgets/controls",
      "layout": "IPY_MODEL_bb1d02ad5e9d41338c47dff87e6cdd9e"
     }
    },
    "ffb7a36fbe5b4debb2938314d1556df1": {
     "model_module": "@jupyter-widgets/controls",
     "model_name": "HTMLModel",
     "model_module_version": "1.5.0",
     "state": {
      "_view_name": "HTMLView",
      "style": "IPY_MODEL_f31aa31694e24afaa4678ce5b74cdd26",
      "_dom_classes": [],
      "description": "",
      "_model_name": "HTMLModel",
      "placeholder": "​",
      "_view_module": "@jupyter-widgets/controls",
      "_model_module_version": "1.5.0",
      "value": " 29696/? [00:00&lt;00:00, 708228.67it/s]",
      "_view_count": null,
      "_view_module_version": "1.5.0",
      "description_tooltip": null,
      "_model_module": "@jupyter-widgets/controls",
      "layout": "IPY_MODEL_298ba64bbc58410982d63b5c04b05b78"
     }
    },
    "85c7dae5b8544f2e8700673c3b657f8a": {
     "model_module": "@jupyter-widgets/controls",
     "model_name": "DescriptionStyleModel",
     "model_module_version": "1.5.0",
     "state": {
      "_view_name": "StyleView",
      "_model_name": "DescriptionStyleModel",
      "description_width": "",
      "_view_module": "@jupyter-widgets/base",
      "_model_module_version": "1.5.0",
      "_view_count": null,
      "_view_module_version": "1.2.0",
      "_model_module": "@jupyter-widgets/controls"
     }
    },
    "99898108ef484ce7bbf9abfd6cee291c": {
     "model_module": "@jupyter-widgets/base",
     "model_name": "LayoutModel",
     "model_module_version": "1.2.0",
     "state": {
      "_view_name": "LayoutView",
      "grid_template_rows": null,
      "right": null,
      "justify_content": null,
      "_view_module": "@jupyter-widgets/base",
      "overflow": null,
      "_model_module_version": "1.2.0",
      "_view_count": null,
      "flex_flow": null,
      "width": null,
      "min_width": null,
      "border": null,
      "align_items": null,
      "bottom": null,
      "_model_module": "@jupyter-widgets/base",
      "top": null,
      "grid_column": null,
      "overflow_y": null,
      "overflow_x": null,
      "grid_auto_flow": null,
      "grid_area": null,
      "grid_template_columns": null,
      "flex": null,
      "_model_name": "LayoutModel",
      "justify_items": null,
      "grid_row": null,
      "max_height": null,
      "align_content": null,
      "visibility": null,
      "align_self": null,
      "height": null,
      "min_height": null,
      "padding": null,
      "grid_auto_rows": null,
      "grid_gap": null,
      "max_width": null,
      "order": null,
      "_view_module_version": "1.2.0",
      "grid_template_areas": null,
      "object_position": null,
      "object_fit": null,
      "grid_auto_columns": null,
      "margin": null,
      "display": null,
      "left": null
     }
    },
    "8c41025ec98c48aea3dfd2490ee958aa": {
     "model_module": "@jupyter-widgets/controls",
     "model_name": "ProgressStyleModel",
     "model_module_version": "1.5.0",
     "state": {
      "_view_name": "StyleView",
      "_model_name": "ProgressStyleModel",
      "description_width": "",
      "_view_module": "@jupyter-widgets/base",
      "_model_module_version": "1.5.0",
      "_view_count": null,
      "_view_module_version": "1.2.0",
      "bar_color": null,
      "_model_module": "@jupyter-widgets/controls"
     }
    },
    "bb1d02ad5e9d41338c47dff87e6cdd9e": {
     "model_module": "@jupyter-widgets/base",
     "model_name": "LayoutModel",
     "model_module_version": "1.2.0",
     "state": {
      "_view_name": "LayoutView",
      "grid_template_rows": null,
      "right": null,
      "justify_content": null,
      "_view_module": "@jupyter-widgets/base",
      "overflow": null,
      "_model_module_version": "1.2.0",
      "_view_count": null,
      "flex_flow": null,
      "width": null,
      "min_width": null,
      "border": null,
      "align_items": null,
      "bottom": null,
      "_model_module": "@jupyter-widgets/base",
      "top": null,
      "grid_column": null,
      "overflow_y": null,
      "overflow_x": null,
      "grid_auto_flow": null,
      "grid_area": null,
      "grid_template_columns": null,
      "flex": null,
      "_model_name": "LayoutModel",
      "justify_items": null,
      "grid_row": null,
      "max_height": null,
      "align_content": null,
      "visibility": null,
      "align_self": null,
      "height": null,
      "min_height": null,
      "padding": null,
      "grid_auto_rows": null,
      "grid_gap": null,
      "max_width": null,
      "order": null,
      "_view_module_version": "1.2.0",
      "grid_template_areas": null,
      "object_position": null,
      "object_fit": null,
      "grid_auto_columns": null,
      "margin": null,
      "display": null,
      "left": null
     }
    },
    "f31aa31694e24afaa4678ce5b74cdd26": {
     "model_module": "@jupyter-widgets/controls",
     "model_name": "DescriptionStyleModel",
     "model_module_version": "1.5.0",
     "state": {
      "_view_name": "StyleView",
      "_model_name": "DescriptionStyleModel",
      "description_width": "",
      "_view_module": "@jupyter-widgets/base",
      "_model_module_version": "1.5.0",
      "_view_count": null,
      "_view_module_version": "1.2.0",
      "_model_module": "@jupyter-widgets/controls"
     }
    },
    "298ba64bbc58410982d63b5c04b05b78": {
     "model_module": "@jupyter-widgets/base",
     "model_name": "LayoutModel",
     "model_module_version": "1.2.0",
     "state": {
      "_view_name": "LayoutView",
      "grid_template_rows": null,
      "right": null,
      "justify_content": null,
      "_view_module": "@jupyter-widgets/base",
      "overflow": null,
      "_model_module_version": "1.2.0",
      "_view_count": null,
      "flex_flow": null,
      "width": null,
      "min_width": null,
      "border": null,
      "align_items": null,
      "bottom": null,
      "_model_module": "@jupyter-widgets/base",
      "top": null,
      "grid_column": null,
      "overflow_y": null,
      "overflow_x": null,
      "grid_auto_flow": null,
      "grid_area": null,
      "grid_template_columns": null,
      "flex": null,
      "_model_name": "LayoutModel",
      "justify_items": null,
      "grid_row": null,
      "max_height": null,
      "align_content": null,
      "visibility": null,
      "align_self": null,
      "height": null,
      "min_height": null,
      "padding": null,
      "grid_auto_rows": null,
      "grid_gap": null,
      "max_width": null,
      "order": null,
      "_view_module_version": "1.2.0",
      "grid_template_areas": null,
      "object_position": null,
      "object_fit": null,
      "grid_auto_columns": null,
      "margin": null,
      "display": null,
      "left": null
     }
    },
    "3f87a74a071743edbbde8d9bdff3d822": {
     "model_module": "@jupyter-widgets/controls",
     "model_name": "HBoxModel",
     "model_module_version": "1.5.0",
     "state": {
      "_view_name": "HBoxView",
      "_dom_classes": [],
      "_model_name": "HBoxModel",
      "_view_module": "@jupyter-widgets/controls",
      "_model_module_version": "1.5.0",
      "_view_count": null,
      "_view_module_version": "1.5.0",
      "box_style": "",
      "layout": "IPY_MODEL_9e2b1208fe20424ab7426941bf0ae4bb",
      "_model_module": "@jupyter-widgets/controls",
      "children": [
       "IPY_MODEL_9fddba72e47b4b888a0f98f476f3724a",
       "IPY_MODEL_4691e74d617e4f8ebb9a32f630bc176d",
       "IPY_MODEL_795b67b762a1464cb35d9eb5b5e07955"
      ]
     }
    },
    "9e2b1208fe20424ab7426941bf0ae4bb": {
     "model_module": "@jupyter-widgets/base",
     "model_name": "LayoutModel",
     "model_module_version": "1.2.0",
     "state": {
      "_view_name": "LayoutView",
      "grid_template_rows": null,
      "right": null,
      "justify_content": null,
      "_view_module": "@jupyter-widgets/base",
      "overflow": null,
      "_model_module_version": "1.2.0",
      "_view_count": null,
      "flex_flow": null,
      "width": null,
      "min_width": null,
      "border": null,
      "align_items": null,
      "bottom": null,
      "_model_module": "@jupyter-widgets/base",
      "top": null,
      "grid_column": null,
      "overflow_y": null,
      "overflow_x": null,
      "grid_auto_flow": null,
      "grid_area": null,
      "grid_template_columns": null,
      "flex": null,
      "_model_name": "LayoutModel",
      "justify_items": null,
      "grid_row": null,
      "max_height": null,
      "align_content": null,
      "visibility": null,
      "align_self": null,
      "height": null,
      "min_height": null,
      "padding": null,
      "grid_auto_rows": null,
      "grid_gap": null,
      "max_width": null,
      "order": null,
      "_view_module_version": "1.2.0",
      "grid_template_areas": null,
      "object_position": null,
      "object_fit": null,
      "grid_auto_columns": null,
      "margin": null,
      "display": null,
      "left": null
     }
    },
    "9fddba72e47b4b888a0f98f476f3724a": {
     "model_module": "@jupyter-widgets/controls",
     "model_name": "HTMLModel",
     "model_module_version": "1.5.0",
     "state": {
      "_view_name": "HTMLView",
      "style": "IPY_MODEL_dac7334dba4044cfa41a2aad7dfcc66f",
      "_dom_classes": [],
      "description": "",
      "_model_name": "HTMLModel",
      "placeholder": "​",
      "_view_module": "@jupyter-widgets/controls",
      "_model_module_version": "1.5.0",
      "value": "",
      "_view_count": null,
      "_view_module_version": "1.5.0",
      "description_tooltip": null,
      "_model_module": "@jupyter-widgets/controls",
      "layout": "IPY_MODEL_d8e87673c3b240e5a0cd117983258f26"
     }
    },
    "4691e74d617e4f8ebb9a32f630bc176d": {
     "model_module": "@jupyter-widgets/controls",
     "model_name": "FloatProgressModel",
     "model_module_version": "1.5.0",
     "state": {
      "_view_name": "ProgressView",
      "style": "IPY_MODEL_fb0c6226b6aa47c9999cf46ad69e8b3a",
      "_dom_classes": [],
      "description": "",
      "_model_name": "FloatProgressModel",
      "bar_style": "success",
      "max": 1648877,
      "_view_module": "@jupyter-widgets/controls",
      "_model_module_version": "1.5.0",
      "value": 1648877,
      "_view_count": null,
      "_view_module_version": "1.5.0",
      "orientation": "horizontal",
      "min": 0,
      "description_tooltip": null,
      "_model_module": "@jupyter-widgets/controls",
      "layout": "IPY_MODEL_d9a4cd5ee2094e77a5624d6c2139b2f9"
     }
    },
    "795b67b762a1464cb35d9eb5b5e07955": {
     "model_module": "@jupyter-widgets/controls",
     "model_name": "HTMLModel",
     "model_module_version": "1.5.0",
     "state": {
      "_view_name": "HTMLView",
      "style": "IPY_MODEL_8989cf28d15948299c41bb9d17ed2696",
      "_dom_classes": [],
      "description": "",
      "_model_name": "HTMLModel",
      "placeholder": "​",
      "_view_module": "@jupyter-widgets/controls",
      "_model_module_version": "1.5.0",
      "value": " 1649664/? [00:00&lt;00:00, 18935214.07it/s]",
      "_view_count": null,
      "_view_module_version": "1.5.0",
      "description_tooltip": null,
      "_model_module": "@jupyter-widgets/controls",
      "layout": "IPY_MODEL_638a5d5e4ab143fa83f322cdde640468"
     }
    },
    "dac7334dba4044cfa41a2aad7dfcc66f": {
     "model_module": "@jupyter-widgets/controls",
     "model_name": "DescriptionStyleModel",
     "model_module_version": "1.5.0",
     "state": {
      "_view_name": "StyleView",
      "_model_name": "DescriptionStyleModel",
      "description_width": "",
      "_view_module": "@jupyter-widgets/base",
      "_model_module_version": "1.5.0",
      "_view_count": null,
      "_view_module_version": "1.2.0",
      "_model_module": "@jupyter-widgets/controls"
     }
    },
    "d8e87673c3b240e5a0cd117983258f26": {
     "model_module": "@jupyter-widgets/base",
     "model_name": "LayoutModel",
     "model_module_version": "1.2.0",
     "state": {
      "_view_name": "LayoutView",
      "grid_template_rows": null,
      "right": null,
      "justify_content": null,
      "_view_module": "@jupyter-widgets/base",
      "overflow": null,
      "_model_module_version": "1.2.0",
      "_view_count": null,
      "flex_flow": null,
      "width": null,
      "min_width": null,
      "border": null,
      "align_items": null,
      "bottom": null,
      "_model_module": "@jupyter-widgets/base",
      "top": null,
      "grid_column": null,
      "overflow_y": null,
      "overflow_x": null,
      "grid_auto_flow": null,
      "grid_area": null,
      "grid_template_columns": null,
      "flex": null,
      "_model_name": "LayoutModel",
      "justify_items": null,
      "grid_row": null,
      "max_height": null,
      "align_content": null,
      "visibility": null,
      "align_self": null,
      "height": null,
      "min_height": null,
      "padding": null,
      "grid_auto_rows": null,
      "grid_gap": null,
      "max_width": null,
      "order": null,
      "_view_module_version": "1.2.0",
      "grid_template_areas": null,
      "object_position": null,
      "object_fit": null,
      "grid_auto_columns": null,
      "margin": null,
      "display": null,
      "left": null
     }
    },
    "fb0c6226b6aa47c9999cf46ad69e8b3a": {
     "model_module": "@jupyter-widgets/controls",
     "model_name": "ProgressStyleModel",
     "model_module_version": "1.5.0",
     "state": {
      "_view_name": "StyleView",
      "_model_name": "ProgressStyleModel",
      "description_width": "",
      "_view_module": "@jupyter-widgets/base",
      "_model_module_version": "1.5.0",
      "_view_count": null,
      "_view_module_version": "1.2.0",
      "bar_color": null,
      "_model_module": "@jupyter-widgets/controls"
     }
    },
    "d9a4cd5ee2094e77a5624d6c2139b2f9": {
     "model_module": "@jupyter-widgets/base",
     "model_name": "LayoutModel",
     "model_module_version": "1.2.0",
     "state": {
      "_view_name": "LayoutView",
      "grid_template_rows": null,
      "right": null,
      "justify_content": null,
      "_view_module": "@jupyter-widgets/base",
      "overflow": null,
      "_model_module_version": "1.2.0",
      "_view_count": null,
      "flex_flow": null,
      "width": null,
      "min_width": null,
      "border": null,
      "align_items": null,
      "bottom": null,
      "_model_module": "@jupyter-widgets/base",
      "top": null,
      "grid_column": null,
      "overflow_y": null,
      "overflow_x": null,
      "grid_auto_flow": null,
      "grid_area": null,
      "grid_template_columns": null,
      "flex": null,
      "_model_name": "LayoutModel",
      "justify_items": null,
      "grid_row": null,
      "max_height": null,
      "align_content": null,
      "visibility": null,
      "align_self": null,
      "height": null,
      "min_height": null,
      "padding": null,
      "grid_auto_rows": null,
      "grid_gap": null,
      "max_width": null,
      "order": null,
      "_view_module_version": "1.2.0",
      "grid_template_areas": null,
      "object_position": null,
      "object_fit": null,
      "grid_auto_columns": null,
      "margin": null,
      "display": null,
      "left": null
     }
    },
    "8989cf28d15948299c41bb9d17ed2696": {
     "model_module": "@jupyter-widgets/controls",
     "model_name": "DescriptionStyleModel",
     "model_module_version": "1.5.0",
     "state": {
      "_view_name": "StyleView",
      "_model_name": "DescriptionStyleModel",
      "description_width": "",
      "_view_module": "@jupyter-widgets/base",
      "_model_module_version": "1.5.0",
      "_view_count": null,
      "_view_module_version": "1.2.0",
      "_model_module": "@jupyter-widgets/controls"
     }
    },
    "638a5d5e4ab143fa83f322cdde640468": {
     "model_module": "@jupyter-widgets/base",
     "model_name": "LayoutModel",
     "model_module_version": "1.2.0",
     "state": {
      "_view_name": "LayoutView",
      "grid_template_rows": null,
      "right": null,
      "justify_content": null,
      "_view_module": "@jupyter-widgets/base",
      "overflow": null,
      "_model_module_version": "1.2.0",
      "_view_count": null,
      "flex_flow": null,
      "width": null,
      "min_width": null,
      "border": null,
      "align_items": null,
      "bottom": null,
      "_model_module": "@jupyter-widgets/base",
      "top": null,
      "grid_column": null,
      "overflow_y": null,
      "overflow_x": null,
      "grid_auto_flow": null,
      "grid_area": null,
      "grid_template_columns": null,
      "flex": null,
      "_model_name": "LayoutModel",
      "justify_items": null,
      "grid_row": null,
      "max_height": null,
      "align_content": null,
      "visibility": null,
      "align_self": null,
      "height": null,
      "min_height": null,
      "padding": null,
      "grid_auto_rows": null,
      "grid_gap": null,
      "max_width": null,
      "order": null,
      "_view_module_version": "1.2.0",
      "grid_template_areas": null,
      "object_position": null,
      "object_fit": null,
      "grid_auto_columns": null,
      "margin": null,
      "display": null,
      "left": null
     }
    },
    "bfeca5aec53848f79a00549e1ad32fb4": {
     "model_module": "@jupyter-widgets/controls",
     "model_name": "HBoxModel",
     "model_module_version": "1.5.0",
     "state": {
      "_view_name": "HBoxView",
      "_dom_classes": [],
      "_model_name": "HBoxModel",
      "_view_module": "@jupyter-widgets/controls",
      "_model_module_version": "1.5.0",
      "_view_count": null,
      "_view_module_version": "1.5.0",
      "box_style": "",
      "layout": "IPY_MODEL_c6d2dbf5711649d4b3514ba9485d776e",
      "_model_module": "@jupyter-widgets/controls",
      "children": [
       "IPY_MODEL_db799f82ecec4402a6e6173d8208860e",
       "IPY_MODEL_7733f7252aee4689beab2f194036822e",
       "IPY_MODEL_063dc8474fc240358319fe021a6deb7b"
      ]
     }
    },
    "c6d2dbf5711649d4b3514ba9485d776e": {
     "model_module": "@jupyter-widgets/base",
     "model_name": "LayoutModel",
     "model_module_version": "1.2.0",
     "state": {
      "_view_name": "LayoutView",
      "grid_template_rows": null,
      "right": null,
      "justify_content": null,
      "_view_module": "@jupyter-widgets/base",
      "overflow": null,
      "_model_module_version": "1.2.0",
      "_view_count": null,
      "flex_flow": null,
      "width": null,
      "min_width": null,
      "border": null,
      "align_items": null,
      "bottom": null,
      "_model_module": "@jupyter-widgets/base",
      "top": null,
      "grid_column": null,
      "overflow_y": null,
      "overflow_x": null,
      "grid_auto_flow": null,
      "grid_area": null,
      "grid_template_columns": null,
      "flex": null,
      "_model_name": "LayoutModel",
      "justify_items": null,
      "grid_row": null,
      "max_height": null,
      "align_content": null,
      "visibility": null,
      "align_self": null,
      "height": null,
      "min_height": null,
      "padding": null,
      "grid_auto_rows": null,
      "grid_gap": null,
      "max_width": null,
      "order": null,
      "_view_module_version": "1.2.0",
      "grid_template_areas": null,
      "object_position": null,
      "object_fit": null,
      "grid_auto_columns": null,
      "margin": null,
      "display": null,
      "left": null
     }
    },
    "db799f82ecec4402a6e6173d8208860e": {
     "model_module": "@jupyter-widgets/controls",
     "model_name": "HTMLModel",
     "model_module_version": "1.5.0",
     "state": {
      "_view_name": "HTMLView",
      "style": "IPY_MODEL_a646f19015444b86bd24bf73c74cce21",
      "_dom_classes": [],
      "description": "",
      "_model_name": "HTMLModel",
      "placeholder": "​",
      "_view_module": "@jupyter-widgets/controls",
      "_model_module_version": "1.5.0",
      "value": "",
      "_view_count": null,
      "_view_module_version": "1.5.0",
      "description_tooltip": null,
      "_model_module": "@jupyter-widgets/controls",
      "layout": "IPY_MODEL_c3ab69fcf5a1413f98e3c04628e221fd"
     }
    },
    "7733f7252aee4689beab2f194036822e": {
     "model_module": "@jupyter-widgets/controls",
     "model_name": "FloatProgressModel",
     "model_module_version": "1.5.0",
     "state": {
      "_view_name": "ProgressView",
      "style": "IPY_MODEL_7dd7b27aa33143be858f20e7657adb1d",
      "_dom_classes": [],
      "description": "",
      "_model_name": "FloatProgressModel",
      "bar_style": "success",
      "max": 4542,
      "_view_module": "@jupyter-widgets/controls",
      "_model_module_version": "1.5.0",
      "value": 4542,
      "_view_count": null,
      "_view_module_version": "1.5.0",
      "orientation": "horizontal",
      "min": 0,
      "description_tooltip": null,
      "_model_module": "@jupyter-widgets/controls",
      "layout": "IPY_MODEL_378556f198084086a2807888603d87b7"
     }
    },
    "063dc8474fc240358319fe021a6deb7b": {
     "model_module": "@jupyter-widgets/controls",
     "model_name": "HTMLModel",
     "model_module_version": "1.5.0",
     "state": {
      "_view_name": "HTMLView",
      "style": "IPY_MODEL_fe8ec0853cb1484c878578b59050c261",
      "_dom_classes": [],
      "description": "",
      "_model_name": "HTMLModel",
      "placeholder": "​",
      "_view_module": "@jupyter-widgets/controls",
      "_model_module_version": "1.5.0",
      "value": " 5120/? [00:00&lt;00:00, 155280.57it/s]",
      "_view_count": null,
      "_view_module_version": "1.5.0",
      "description_tooltip": null,
      "_model_module": "@jupyter-widgets/controls",
      "layout": "IPY_MODEL_7444b4438cfe4cfebfcdadea2ee4cd77"
     }
    },
    "a646f19015444b86bd24bf73c74cce21": {
     "model_module": "@jupyter-widgets/controls",
     "model_name": "DescriptionStyleModel",
     "model_module_version": "1.5.0",
     "state": {
      "_view_name": "StyleView",
      "_model_name": "DescriptionStyleModel",
      "description_width": "",
      "_view_module": "@jupyter-widgets/base",
      "_model_module_version": "1.5.0",
      "_view_count": null,
      "_view_module_version": "1.2.0",
      "_model_module": "@jupyter-widgets/controls"
     }
    },
    "c3ab69fcf5a1413f98e3c04628e221fd": {
     "model_module": "@jupyter-widgets/base",
     "model_name": "LayoutModel",
     "model_module_version": "1.2.0",
     "state": {
      "_view_name": "LayoutView",
      "grid_template_rows": null,
      "right": null,
      "justify_content": null,
      "_view_module": "@jupyter-widgets/base",
      "overflow": null,
      "_model_module_version": "1.2.0",
      "_view_count": null,
      "flex_flow": null,
      "width": null,
      "min_width": null,
      "border": null,
      "align_items": null,
      "bottom": null,
      "_model_module": "@jupyter-widgets/base",
      "top": null,
      "grid_column": null,
      "overflow_y": null,
      "overflow_x": null,
      "grid_auto_flow": null,
      "grid_area": null,
      "grid_template_columns": null,
      "flex": null,
      "_model_name": "LayoutModel",
      "justify_items": null,
      "grid_row": null,
      "max_height": null,
      "align_content": null,
      "visibility": null,
      "align_self": null,
      "height": null,
      "min_height": null,
      "padding": null,
      "grid_auto_rows": null,
      "grid_gap": null,
      "max_width": null,
      "order": null,
      "_view_module_version": "1.2.0",
      "grid_template_areas": null,
      "object_position": null,
      "object_fit": null,
      "grid_auto_columns": null,
      "margin": null,
      "display": null,
      "left": null
     }
    },
    "7dd7b27aa33143be858f20e7657adb1d": {
     "model_module": "@jupyter-widgets/controls",
     "model_name": "ProgressStyleModel",
     "model_module_version": "1.5.0",
     "state": {
      "_view_name": "StyleView",
      "_model_name": "ProgressStyleModel",
      "description_width": "",
      "_view_module": "@jupyter-widgets/base",
      "_model_module_version": "1.5.0",
      "_view_count": null,
      "_view_module_version": "1.2.0",
      "bar_color": null,
      "_model_module": "@jupyter-widgets/controls"
     }
    },
    "378556f198084086a2807888603d87b7": {
     "model_module": "@jupyter-widgets/base",
     "model_name": "LayoutModel",
     "model_module_version": "1.2.0",
     "state": {
      "_view_name": "LayoutView",
      "grid_template_rows": null,
      "right": null,
      "justify_content": null,
      "_view_module": "@jupyter-widgets/base",
      "overflow": null,
      "_model_module_version": "1.2.0",
      "_view_count": null,
      "flex_flow": null,
      "width": null,
      "min_width": null,
      "border": null,
      "align_items": null,
      "bottom": null,
      "_model_module": "@jupyter-widgets/base",
      "top": null,
      "grid_column": null,
      "overflow_y": null,
      "overflow_x": null,
      "grid_auto_flow": null,
      "grid_area": null,
      "grid_template_columns": null,
      "flex": null,
      "_model_name": "LayoutModel",
      "justify_items": null,
      "grid_row": null,
      "max_height": null,
      "align_content": null,
      "visibility": null,
      "align_self": null,
      "height": null,
      "min_height": null,
      "padding": null,
      "grid_auto_rows": null,
      "grid_gap": null,
      "max_width": null,
      "order": null,
      "_view_module_version": "1.2.0",
      "grid_template_areas": null,
      "object_position": null,
      "object_fit": null,
      "grid_auto_columns": null,
      "margin": null,
      "display": null,
      "left": null
     }
    },
    "fe8ec0853cb1484c878578b59050c261": {
     "model_module": "@jupyter-widgets/controls",
     "model_name": "DescriptionStyleModel",
     "model_module_version": "1.5.0",
     "state": {
      "_view_name": "StyleView",
      "_model_name": "DescriptionStyleModel",
      "description_width": "",
      "_view_module": "@jupyter-widgets/base",
      "_model_module_version": "1.5.0",
      "_view_count": null,
      "_view_module_version": "1.2.0",
      "_model_module": "@jupyter-widgets/controls"
     }
    },
    "7444b4438cfe4cfebfcdadea2ee4cd77": {
     "model_module": "@jupyter-widgets/base",
     "model_name": "LayoutModel",
     "model_module_version": "1.2.0",
     "state": {
      "_view_name": "LayoutView",
      "grid_template_rows": null,
      "right": null,
      "justify_content": null,
      "_view_module": "@jupyter-widgets/base",
      "overflow": null,
      "_model_module_version": "1.2.0",
      "_view_count": null,
      "flex_flow": null,
      "width": null,
      "min_width": null,
      "border": null,
      "align_items": null,
      "bottom": null,
      "_model_module": "@jupyter-widgets/base",
      "top": null,
      "grid_column": null,
      "overflow_y": null,
      "overflow_x": null,
      "grid_auto_flow": null,
      "grid_area": null,
      "grid_template_columns": null,
      "flex": null,
      "_model_name": "LayoutModel",
      "justify_items": null,
      "grid_row": null,
      "max_height": null,
      "align_content": null,
      "visibility": null,
      "align_self": null,
      "height": null,
      "min_height": null,
      "padding": null,
      "grid_auto_rows": null,
      "grid_gap": null,
      "max_width": null,
      "order": null,
      "_view_module_version": "1.2.0",
      "grid_template_areas": null,
      "object_position": null,
      "object_fit": null,
      "grid_auto_columns": null,
      "margin": null,
      "display": null,
      "left": null
     }
    }
   }
  }
 },
 "cells": [
  {
   "cell_type": "markdown",
   "metadata": {
    "id": "sSyQnExiOOcf"
   },
   "source": [
    "<p style=\"align: center;\"><img align=center src=\"https://s8.hostingkartinok.com/uploads/images/2018/08/308b49fcfbc619d629fe4604bceb67ac.jpg\" width=550 height=450/></p>\n",
    "\n",
    "<h3 style=\"text-align: center;\"><b>\"Глубокое обучение\". Продвинутый поток</b></h3>\n",
    "\n",
    "<h2 style=\"text-align: center;\"><b>Семинар 6. PyTorch. Создание и обучение нейронных сетей </b></h2>\n"
   ]
  },
  {
   "cell_type": "markdown",
   "metadata": {
    "id": "D4GdBvkZOp8M"
   },
   "source": [
    "# Обучение нейронной сети с использованием PyTorch\n",
    "\n",
    "В этом блокноте мы создадим и обучим простую нейронную сеть с помощью PyTorch. Наша цель - показать основы фреймворка Torch и достичь простого понимания того, как выглядит решение разных задач с помощью нейронных сетей."
   ]
  },
  {
   "cell_type": "code",
   "metadata": {
    "id": "x4kC-U8dOpZU",
    "executionInfo": {
     "status": "ok",
     "timestamp": 1634750757877,
     "user_tz": -180,
     "elapsed": 25920,
     "user": {
      "displayName": "Александр Анатольевич Миленькин",
      "photoUrl": "https://lh3.googleusercontent.com/a-/AOh14Gh1yB_mGyNeEBrnQ_bFdA3CLdWCnTPdtAORppSkYg=s64",
      "userId": "12111341805146772458"
     }
    }
   },
   "source": [
    "import torch  "
   ],
   "execution_count": 1,
   "outputs": []
  },
  {
   "cell_type": "code",
   "metadata": {
    "id": "DiMnj_xTWFW3",
    "colab": {
     "base_uri": "https://localhost:8080/"
    },
    "executionInfo": {
     "status": "ok",
     "timestamp": 1634750757878,
     "user_tz": -180,
     "elapsed": 9,
     "user": {
      "displayName": "Александр Анатольевич Миленькин",
      "photoUrl": "https://lh3.googleusercontent.com/a-/AOh14Gh1yB_mGyNeEBrnQ_bFdA3CLdWCnTPdtAORppSkYg=s64",
      "userId": "12111341805146772458"
     }
    },
    "outputId": "4e405f06-3e91-41d9-81ee-f719362b2472"
   },
   "source": [
    "# Определяем на чем у нас будут производиться вычисления (cuda/cpu)\n",
    "device = torch.device('cuda:0') if torch.cuda.is_available else torch.device('cpu')  \n",
    "device"
   ],
   "execution_count": 2,
   "outputs": [
    {
     "data": {
      "text/plain": "device(type='cuda', index=0)"
     },
     "execution_count": 2,
     "metadata": {},
     "output_type": "execute_result"
    }
   ]
  },
  {
   "cell_type": "markdown",
   "metadata": {
    "id": "t4BjZJQ2PdGw"
   },
   "source": [
    "\n",
    "\n",
    "## Подготовка датасета\n",
    "\n",
    "Здесь мы узнаем некоторые базовые функции и классы подготовки данных из **PyTorch** как:\n",
    "\n",
    "- `torch.utils.data.Dataset` and `torch.utils.data.DataLoader`\n",
    "- dataset downloading api\n",
    "\n",
    "Для начала мы определим нашу проблему. Здесь мы загружаем набор данных MNIST (с PyTorch API)\n",
    "\n",
    "MNIST:\n",
    "- 28x28 изображений из `0`, `1`, .. `9`\n",
    "- каждый пиксель серый (float value in [0, 1))\n",
    "- targets это целое значение в диапазоне [0, 9] (10 классов)\n",
    "- объекты ($x_i$, $y_i$), где $x_i$ размера (1, 28, 28), $y_i$ это значение int\n",
    "\n",
    "Для наших целей мы вытяним входные данные ($ x $), чтобы наши данные во время обучения имели формы:\n",
    "\n",
    "- `x_batch` размера `(batch_size, 784)`\n",
    "- `y_batch` размера `(batch_size)`\n",
    "\n"
   ]
  },
  {
   "cell_type": "code",
   "metadata": {
    "id": "4-L2wfz7Pczm",
    "executionInfo": {
     "status": "ok",
     "timestamp": 1634750757878,
     "user_tz": -180,
     "elapsed": 6,
     "user": {
      "displayName": "Александр Анатольевич Миленькин",
      "photoUrl": "https://lh3.googleusercontent.com/a-/AOh14Gh1yB_mGyNeEBrnQ_bFdA3CLdWCnTPdtAORppSkYg=s64",
      "userId": "12111341805146772458"
     }
    }
   },
   "source": [
    "from torchvision.datasets import MNIST\n",
    "import torchvision.transforms as tfs"
   ],
   "execution_count": 3,
   "outputs": []
  },
  {
   "cell_type": "code",
   "metadata": {
    "id": "67geRKgxUKcV",
    "executionInfo": {
     "status": "ok",
     "timestamp": 1634750759717,
     "user_tz": -180,
     "elapsed": 40,
     "user": {
      "displayName": "Александр Анатольевич Миленькин",
      "photoUrl": "https://lh3.googleusercontent.com/a-/AOh14Gh1yB_mGyNeEBrnQ_bFdA3CLdWCnTPdtAORppSkYg=s64",
      "userId": "12111341805146772458"
     }
    }
   },
   "source": [
    "data_tfs = tfs.Compose([\n",
    "  tfs.ToTensor(),\n",
    "  tfs.Normalize((0.5), (0.5))\n",
    "])"
   ],
   "execution_count": 4,
   "outputs": []
  },
  {
   "cell_type": "code",
   "metadata": {
    "id": "KrrlpkzbQxbl",
    "colab": {
     "base_uri": "https://localhost:8080/",
     "height": 467,
     "referenced_widgets": [
      "00013dc198644cc7b60a2205fabcfa06",
      "cea003fada754b7a9e1a2e91571614d1",
      "a8006e304cd14bb7849c934262965e7d",
      "6859abdfde5f4b79ba5a24e882b3375f",
      "8aa04af163294be5917fcdc1d3c23532",
      "784c7aba575645c090ac1ed1b0468a93",
      "38fd7fa23ba44407885bcc8aa63c97bd",
      "fd459523dfa0494b99911f59e4ea1670",
      "c128fcaebc904193874ef8067ccb17f1",
      "051093fdc05144bc94ae60cf793660cf",
      "c379c399cee14c90866b84dd98c7387b",
      "284568611e2c49a2a556fee02d44c878",
      "c86a9f9d72e34155a99040b25aa181af",
      "e413d45b251b4cfb945758ea82cf1d76",
      "9d51af91dd514a93ae5ac4b378a2e053",
      "ffb7a36fbe5b4debb2938314d1556df1",
      "85c7dae5b8544f2e8700673c3b657f8a",
      "99898108ef484ce7bbf9abfd6cee291c",
      "8c41025ec98c48aea3dfd2490ee958aa",
      "bb1d02ad5e9d41338c47dff87e6cdd9e",
      "f31aa31694e24afaa4678ce5b74cdd26",
      "298ba64bbc58410982d63b5c04b05b78",
      "3f87a74a071743edbbde8d9bdff3d822",
      "9e2b1208fe20424ab7426941bf0ae4bb",
      "9fddba72e47b4b888a0f98f476f3724a",
      "4691e74d617e4f8ebb9a32f630bc176d",
      "795b67b762a1464cb35d9eb5b5e07955",
      "dac7334dba4044cfa41a2aad7dfcc66f",
      "d8e87673c3b240e5a0cd117983258f26",
      "fb0c6226b6aa47c9999cf46ad69e8b3a",
      "d9a4cd5ee2094e77a5624d6c2139b2f9",
      "8989cf28d15948299c41bb9d17ed2696",
      "638a5d5e4ab143fa83f322cdde640468",
      "bfeca5aec53848f79a00549e1ad32fb4",
      "c6d2dbf5711649d4b3514ba9485d776e",
      "db799f82ecec4402a6e6173d8208860e",
      "7733f7252aee4689beab2f194036822e",
      "063dc8474fc240358319fe021a6deb7b",
      "a646f19015444b86bd24bf73c74cce21",
      "c3ab69fcf5a1413f98e3c04628e221fd",
      "7dd7b27aa33143be858f20e7657adb1d",
      "378556f198084086a2807888603d87b7",
      "fe8ec0853cb1484c878578b59050c261",
      "7444b4438cfe4cfebfcdadea2ee4cd77"
     ]
    },
    "executionInfo": {
     "status": "ok",
     "timestamp": 1634750762216,
     "user_tz": -180,
     "elapsed": 2538,
     "user": {
      "displayName": "Александр Анатольевич Миленькин",
      "photoUrl": "https://lh3.googleusercontent.com/a-/AOh14Gh1yB_mGyNeEBrnQ_bFdA3CLdWCnTPdtAORppSkYg=s64",
      "userId": "12111341805146772458"
     }
    },
    "outputId": "55bcb79c-e43b-4c07-9450-397dbb555a1f"
   },
   "source": [
    "# install for train and test\n",
    "root = './'\n",
    "train = MNIST(root, train=True,  transform=data_tfs, download=True)\n",
    "test  = MNIST(root, train=False, transform=data_tfs, download=True)"
   ],
   "execution_count": 5,
   "outputs": []
  },
  {
   "cell_type": "code",
   "metadata": {
    "id": "X4gMHMSBTdEm",
    "colab": {
     "base_uri": "https://localhost:8080/"
    },
    "executionInfo": {
     "status": "ok",
     "timestamp": 1634750762217,
     "user_tz": -180,
     "elapsed": 8,
     "user": {
      "displayName": "Александр Анатольевич Миленькин",
      "photoUrl": "https://lh3.googleusercontent.com/a-/AOh14Gh1yB_mGyNeEBrnQ_bFdA3CLdWCnTPdtAORppSkYg=s64",
      "userId": "12111341805146772458"
     }
    },
    "outputId": "d761cdd4-6710-4780-dc53-9c5fd8d65548"
   },
   "source": [
    "print(f'Data size:\\n\\t train {len(train)},\\n\\t test {len(test)}')\n",
    "print(f'Data shape:\\n\\t features {train[0][0].shape},\\n\\t target {type(test[0][1])}')"
   ],
   "execution_count": 6,
   "outputs": [
    {
     "name": "stdout",
     "output_type": "stream",
     "text": [
      "Data size:\n",
      "\t train 60000,\n",
      "\t test 10000\n",
      "Data shape:\n",
      "\t features torch.Size([1, 28, 28]),\n",
      "\t target <class 'int'>\n"
     ]
    }
   ]
  },
  {
   "cell_type": "markdown",
   "metadata": {
    "id": "omdMTw-XTDz5"
   },
   "source": [
    "Заметьте! Нам не нужно реализовывать batch loader самостоятельно. Давайте воспользуемся его реализацией в torch, которая называется `DataLoader` из `torch.utils.data`."
   ]
  },
  {
   "cell_type": "code",
   "metadata": {
    "id": "oTbQiE7DTDMG",
    "executionInfo": {
     "status": "ok",
     "timestamp": 1634750870562,
     "user_tz": -180,
     "elapsed": 1013,
     "user": {
      "displayName": "Александр Анатольевич Миленькин",
      "photoUrl": "https://lh3.googleusercontent.com/a-/AOh14Gh1yB_mGyNeEBrnQ_bFdA3CLdWCnTPdtAORppSkYg=s64",
      "userId": "12111341805146772458"
     }
    }
   },
   "source": [
    "from torch.utils.data import DataLoader\n",
    "\n",
    "batch_size = 128\n",
    "\n",
    "train_loader = DataLoader(train, batch_size=batch_size, drop_last=True)\n",
    "test_loader = DataLoader(test, batch_size=batch_size, drop_last=True)"
   ],
   "execution_count": 7,
   "outputs": []
  },
  {
   "cell_type": "code",
   "metadata": {
    "id": "MkQ86w8fXFXL",
    "colab": {
     "base_uri": "https://localhost:8080/"
    },
    "executionInfo": {
     "status": "ok",
     "timestamp": 1634750871646,
     "user_tz": -180,
     "elapsed": 5,
     "user": {
      "displayName": "Александр Анатольевич Миленькин",
      "photoUrl": "https://lh3.googleusercontent.com/a-/AOh14Gh1yB_mGyNeEBrnQ_bFdA3CLdWCnTPdtAORppSkYg=s64",
      "userId": "12111341805146772458"
     }
    },
    "outputId": "0925248b-e68c-4bdb-9c9e-2d9354b8acd0"
   },
   "source": [
    "x_batch, y_batch = next(iter(train_loader))\n",
    "x_batch.shape, y_batch.shape"
   ],
   "execution_count": 8,
   "outputs": [
    {
     "data": {
      "text/plain": "(torch.Size([128, 1, 28, 28]), torch.Size([128]))"
     },
     "execution_count": 8,
     "metadata": {},
     "output_type": "execute_result"
    }
   ]
  },
  {
   "cell_type": "markdown",
   "metadata": {
    "id": "4brdJhe0XeKm"
   },
   "source": [
    "Наконец, мы подготовили наши данные, поэтому теперь мы создадим некоторую модель для классификации изображений!"
   ]
  },
  {
   "cell_type": "markdown",
   "metadata": {
    "id": "-niriIktOclz"
   },
   "source": [
    "## Модель и обучение (of abnormal people)\n",
    "\n",
    "\n",
    "Теперь посмотрим, как **torch** вычисляет функции градиента во время вычисления выражения. Используя метод `.backward ()` для выражени, **мы передаем граф вычисления градиента до листьев**, которые являются надежными для параметров нашей модели.\n",
    "\n",
    "Таким образом, мы используем эти знания, чтобы найти оптимальные веса некоторой модели, которая представлена ​​некоторым выражением.\n",
    "\n",
    "Предположем,\n",
    "1. Мы хотим обучить линейную модель.\n",
    "2. Для каждого класса мы используем собственные веса для вычисления `logits` (логитов).\n",
    "3. Мы используем `softmax` на логитах для вероятностей каждого класса.\n",
    "4. Обучайте партии с помощью `sgd`."
   ]
  },
  {
   "cell_type": "code",
   "metadata": {
    "id": "ZwQ0rR_EZiGL",
    "executionInfo": {
     "status": "ok",
     "timestamp": 1634750929868,
     "user_tz": -180,
     "elapsed": 1238,
     "user": {
      "displayName": "Александр Анатольевич Миленькин",
      "photoUrl": "https://lh3.googleusercontent.com/a-/AOh14Gh1yB_mGyNeEBrnQ_bFdA3CLdWCnTPdtAORppSkYg=s64",
      "userId": "12111341805146772458"
     }
    }
   },
   "source": [
    "features = 784\n",
    "classes = 10"
   ],
   "execution_count": 9,
   "outputs": []
  },
  {
   "cell_type": "code",
   "metadata": {
    "id": "KZ-qXVG5mVq3",
    "colab": {
     "base_uri": "https://localhost:8080/"
    },
    "executionInfo": {
     "status": "ok",
     "timestamp": 1634750929869,
     "user_tz": -180,
     "elapsed": 8,
     "user": {
      "displayName": "Александр Анатольевич Миленькин",
      "photoUrl": "https://lh3.googleusercontent.com/a-/AOh14Gh1yB_mGyNeEBrnQ_bFdA3CLdWCnTPdtAORppSkYg=s64",
      "userId": "12111341805146772458"
     }
    },
    "outputId": "73d66792-a26a-4dd0-f7e7-8c6054aec5e8"
   },
   "source": [
    "W = torch.FloatTensor(features, classes).uniform_(-1, 1) / features**0.5\n",
    "W.requires_grad_()"
   ],
   "execution_count": 10,
   "outputs": [
    {
     "data": {
      "text/plain": "tensor([[-4.5453e-05,  2.7323e-02, -1.4590e-02,  ..., -1.3403e-04,\n          9.6396e-03, -3.0064e-02],\n        [-2.5898e-03, -1.4092e-03, -1.1804e-02,  ..., -3.8650e-03,\n          2.1195e-02,  1.1114e-02],\n        [ 2.5079e-02,  1.2837e-02,  2.9512e-02,  ..., -2.6921e-02,\n          2.8984e-02,  3.1494e-02],\n        ...,\n        [-1.2571e-02, -1.5077e-02, -2.2085e-02,  ...,  3.2683e-02,\n         -2.6363e-02, -7.1659e-04],\n        [-1.6357e-02, -2.7977e-02,  2.2446e-02,  ..., -2.9000e-02,\n          2.4265e-02, -2.6544e-02],\n        [-1.1370e-02, -2.2610e-02,  2.0033e-02,  ..., -9.0253e-03,\n         -1.9764e-02,  3.3723e-02]], requires_grad=True)"
     },
     "execution_count": 10,
     "metadata": {},
     "output_type": "execute_result"
    }
   ]
  },
  {
   "cell_type": "markdown",
   "metadata": {
    "id": "PUVgNd-LaRhZ"
   },
   "source": [
    "SGD цикл обучения"
   ]
  },
  {
   "cell_type": "code",
   "metadata": {
    "id": "v6lQU1rgaWjY",
    "executionInfo": {
     "status": "ok",
     "timestamp": 1634750933853,
     "user_tz": -180,
     "elapsed": 12,
     "user": {
      "displayName": "Александр Анатольевич Миленькин",
      "photoUrl": "https://lh3.googleusercontent.com/a-/AOh14Gh1yB_mGyNeEBrnQ_bFdA3CLdWCnTPdtAORppSkYg=s64",
      "userId": "12111341805146772458"
     }
    }
   },
   "source": [
    "epochs = 3\n",
    "lr=1e-2\n",
    "history = []"
   ],
   "execution_count": 11,
   "outputs": []
  },
  {
   "cell_type": "code",
   "metadata": {
    "id": "QMBcROViilwY",
    "executionInfo": {
     "status": "ok",
     "timestamp": 1634750937990,
     "user_tz": -180,
     "elapsed": 4,
     "user": {
      "displayName": "Александр Анатольевич Миленькин",
      "photoUrl": "https://lh3.googleusercontent.com/a-/AOh14Gh1yB_mGyNeEBrnQ_bFdA3CLdWCnTPdtAORppSkYg=s64",
      "userId": "12111341805146772458"
     }
    }
   },
   "source": [
    "import numpy as np\n",
    "from torch.nn.functional import cross_entropy\n",
    "\n",
    "#КРОСС-ЭНТРОПИЯ ЗДЕСЬ БЕРЁТСЯ ОТ ЛОГИТОВ, А НЕ ОТ ВЕРОЯТНОСТЕЙ!"
   ],
   "execution_count": 12,
   "outputs": []
  },
  {
   "cell_type": "code",
   "metadata": {
    "id": "V1Cqa86BOWu1",
    "colab": {
     "base_uri": "https://localhost:8080/"
    },
    "executionInfo": {
     "status": "ok",
     "timestamp": 1634751073663,
     "user_tz": -180,
     "elapsed": 34891,
     "user": {
      "displayName": "Александр Анатольевич Миленькин",
      "photoUrl": "https://lh3.googleusercontent.com/a-/AOh14Gh1yB_mGyNeEBrnQ_bFdA3CLdWCnTPdtAORppSkYg=s64",
      "userId": "12111341805146772458"
     }
    },
    "outputId": "0d9044fa-96d2-4e81-c1b5-fc9a7ebf8c27"
   },
   "source": [
    "for i in range(epochs):\n",
    "  for x_batch, y_batch in train_loader:\n",
    "    \n",
    "    # загружаем батч данных (вытянутый в линию)\n",
    "    x_batch = x_batch.reshape(x_batch.shape[0], -1)\n",
    "\n",
    "    # вычисляем функцию потерь (log loss, также известная как кросс-энтропия)\n",
    "    logits = x_batch @ W\n",
    "    probabilities = torch.exp(logits) / torch.exp(logits).sum(dim=1, keepdims=True)\n",
    "    \n",
    "    loss = -torch.log(probabilities[range(batch_size), y_batch]).mean()\n",
    "    history.append(loss.item())\n",
    "\n",
    "    # вычисляем градиенты\n",
    "    loss.backward()\n",
    "\n",
    "    # делаем шаг градиентного спуска\n",
    "    grad = W.grad\n",
    "    with torch.no_grad():\n",
    "      W -= lr * grad\n",
    "    W.grad.zero_()\n",
    "\n",
    "  print(f'{i+1},\\t loss: {history[-1]}')"
   ],
   "execution_count": 13,
   "outputs": [
    {
     "name": "stdout",
     "output_type": "stream",
     "text": [
      "1,\t loss: 0.19170302152633667\n",
      "2,\t loss: 0.13832759857177734\n",
      "3,\t loss: 0.11880401521921158\n"
     ]
    }
   ]
  },
  {
   "cell_type": "markdown",
   "metadata": {
    "id": "a4_T6SIEevn6"
   },
   "source": [
    "И, конечно же, мы может построить график для loss (функции потерь) во время обучения."
   ]
  },
  {
   "cell_type": "code",
   "metadata": {
    "id": "K-pkgEBtfyIU",
    "executionInfo": {
     "status": "ok",
     "timestamp": 1634751175791,
     "user_tz": -180,
     "elapsed": 594,
     "user": {
      "displayName": "Александр Анатольевич Миленькин",
      "photoUrl": "https://lh3.googleusercontent.com/a-/AOh14Gh1yB_mGyNeEBrnQ_bFdA3CLdWCnTPdtAORppSkYg=s64",
      "userId": "12111341805146772458"
     }
    }
   },
   "source": [
    "import matplotlib.pyplot as plt"
   ],
   "execution_count": 14,
   "outputs": []
  },
  {
   "cell_type": "code",
   "metadata": {
    "id": "ISFcr5Pab8tZ",
    "colab": {
     "base_uri": "https://localhost:8080/",
     "height": 458
    },
    "executionInfo": {
     "status": "ok",
     "timestamp": 1634751178140,
     "user_tz": -180,
     "elapsed": 19,
     "user": {
      "displayName": "Александр Анатольевич Миленькин",
      "photoUrl": "https://lh3.googleusercontent.com/a-/AOh14Gh1yB_mGyNeEBrnQ_bFdA3CLdWCnTPdtAORppSkYg=s64",
      "userId": "12111341805146772458"
     }
    },
    "outputId": "c6cb6418-f4d5-40df-cffa-69795b61e73c"
   },
   "source": [
    "plt.figure(figsize=(10, 7))\n",
    "\n",
    "plt.plot(history)\n",
    "\n",
    "plt.title('Loss by batch iterations')\n",
    "plt.ylabel('Entropy Loss')\n",
    "plt.xlabel('batches')\n",
    "\n",
    "plt.show()"
   ],
   "execution_count": 15,
   "outputs": [
    {
     "data": {
      "text/plain": "<Figure size 720x504 with 1 Axes>",
      "image/png": "[encoded data removed]"
     },
     "metadata": {
      "needs_background": "light"
     },
     "output_type": "display_data"
    }
   ]
  },
  {
   "cell_type": "markdown",
   "metadata": {
    "id": "zDAEdkQsovxN"
   },
   "source": [
    "Посмотрим некоторые показатели качества для нашей линейной модели"
   ]
  },
  {
   "cell_type": "code",
   "metadata": {
    "id": "PNtRCtcJfktA",
    "executionInfo": {
     "status": "ok",
     "timestamp": 1634751198715,
     "user_tz": -180,
     "elapsed": 1293,
     "user": {
      "displayName": "Александр Анатольевич Миленькин",
      "photoUrl": "https://lh3.googleusercontent.com/a-/AOh14Gh1yB_mGyNeEBrnQ_bFdA3CLdWCnTPdtAORppSkYg=s64",
      "userId": "12111341805146772458"
     }
    }
   },
   "source": [
    "from sklearn.metrics import accuracy_score"
   ],
   "execution_count": 16,
   "outputs": []
  },
  {
   "cell_type": "code",
   "metadata": {
    "id": "GwR-p1UXo-PT",
    "colab": {
     "base_uri": "https://localhost:8080/"
    },
    "executionInfo": {
     "status": "ok",
     "timestamp": 1634751200730,
     "user_tz": -180,
     "elapsed": 2022,
     "user": {
      "displayName": "Александр Анатольевич Миленькин",
      "photoUrl": "https://lh3.googleusercontent.com/a-/AOh14Gh1yB_mGyNeEBrnQ_bFdA3CLdWCnTPdtAORppSkYg=s64",
      "userId": "12111341805146772458"
     }
    },
    "outputId": "2c18ddba-1f21-4424-a910-942ce9d90ec5"
   },
   "source": [
    "acc = 0\n",
    "batches = 0\n",
    "\n",
    "for x_batch, y_batch in test_loader:\n",
    "  # загружаем батч данных (вытянутый в линию)\n",
    "  batches += 1\n",
    "  x_batch = x_batch.view(x_batch.shape[0], -1)\n",
    "  y_batch = y_batch\n",
    "\n",
    "  preds = torch.argmax(x_batch @ W, dim=1)\n",
    "  acc += (preds==y_batch).cpu().numpy().mean()\n",
    "\n",
    "print(f'Test accuracy {acc / batches:.3}')"
   ],
   "execution_count": 17,
   "outputs": [
    {
     "name": "stdout",
     "output_type": "stream",
     "text": [
      "Test accuracy 0.9\n"
     ]
    }
   ]
  },
  {
   "cell_type": "markdown",
   "metadata": {
    "id": "Dmr2DLSxqGQx"
   },
   "source": [
    "В результате теперь мы видим, что каждая переменная или тензор имеет свои собственные `grad` и `grad_fn`. Эта часть показала, что мы можем напрямую манипулировать ими. Также это очень неудобно, но иногда мы можем получить доступ к такой гибкости.\n",
    "\n",
    "Конечно, PyTorch имеет более высокоуровневый способ работы с весами и градиентами, чем мы рассмотрели выше. В следующей части мы познакомимся с более высоким уровнем построения и обучения нейронных сетей. \n"
   ]
  },
  {
   "cell_type": "markdown",
   "metadata": {
    "id": "wgsY-55IrCGQ"
   },
   "source": [
    "## Модель\n",
    "\n",
    "PyTorch - это гибкий фреймворк для построения любой нейронной сети.\n",
    "\n",
    "Вот таблица сравнения:\n",
    "\n",
    "```\n",
    "| API             | Flexibility | Convenience |,\n",
    "|-----------------|-------------|-------------|,\n",
    "| Barebone        | High        | Low         |,\n",
    "| `nn.Module`     | High        | Medium      |,\n",
    "| `nn.Sequential` | Low         | High        |\n",
    "```"
   ]
  },
  {
   "cell_type": "markdown",
   "metadata": {
    "id": "v5JkAMkRr7Z9"
   },
   "source": [
    "1. barebone - это подход, при котором мы напрямую манипулируем тернсорами. В приведенном выше примере у нас была целевая функция, напрямую выраженная весами. Если мы реализумем этот метод с использованием классов, мы получим API такого уровня: **На этом уровне мы сами кодируем модули**\n",
    "\n",
    "2. [`nn.Module`] (https://pytorch.org/docs/stable/nn.html) - родительский класс для многих модулей, представленных PyTorch. Их много. Их достаточно, чтобы использовать их в готовом виде с необходимыми параметрами. В основном мы используем:\n",
    "\n",
    "- `nn.Linear`\n",
    "- `nn.Softmax`, `nn.LogSoftmax`\n",
    "- `nn.ReLU`, `nn.ELU`, `nn.LeakyReLU`\n",
    "- `nn.Tanh`, `nn.Sigmoid`\n",
    "- `nn.LSTM`, `nn.GRU`\n",
    "- `nn.Conv1d`, `nn.Conv2d`\n",
    "- `nn.MaxPool1d`, `nn.AdaptiveMaxPool1d` and others pooling\n",
    "- `nn.BatchNorm1d`, `nn.BatchNorm2d`\n",
    "- `nn.Dropout`\n",
    "- losses: `nn.CrossEntropyLoss`, `nn.NLLLoss`, `nn.MSELoss`\n",
    "- etc\n",
    "\n",
    "\n",
    "3. `nn.Sequential` - это не более чем последовательность различных модулей на основе` nn.Module`. Они инициируются списком модулей, где выходные данные одного модуля идут в качестве входных данных для следующего по порядку.\n",
    "\n",
    "\n",
    "Давайте **разработаем простую последовательность** для классификацию MNIST с использованием **модели** двух линейных слоев и `nn.Sequential`.\n"
   ]
  },
  {
   "cell_type": "code",
   "metadata": {
    "id": "V4d3LntkwSyk",
    "executionInfo": {
     "status": "ok",
     "timestamp": 1634751540448,
     "user_tz": -180,
     "elapsed": 521,
     "user": {
      "displayName": "Александр Анатольевич Миленькин",
      "photoUrl": "https://lh3.googleusercontent.com/a-/AOh14Gh1yB_mGyNeEBrnQ_bFdA3CLdWCnTPdtAORppSkYg=s64",
      "userId": "12111341805146772458"
     }
    }
   },
   "source": [
    "import torch.nn as nn\n",
    "from torchsummary import summary"
   ],
   "execution_count": 18,
   "outputs": []
  },
  {
   "cell_type": "code",
   "metadata": {
    "id": "1EAghRDFwcCM",
    "colab": {
     "base_uri": "https://localhost:8080/"
    },
    "executionInfo": {
     "status": "ok",
     "timestamp": 1634751555726,
     "user_tz": -180,
     "elapsed": 14709,
     "user": {
      "displayName": "Александр Анатольевич Миленькин",
      "photoUrl": "https://lh3.googleusercontent.com/a-/AOh14Gh1yB_mGyNeEBrnQ_bFdA3CLdWCnTPdtAORppSkYg=s64",
      "userId": "12111341805146772458"
     }
    },
    "outputId": "8c511c38-973c-4c28-c65e-36cf2f4919c3"
   },
   "source": [
    "model = nn.Sequential(\n",
    "  nn.Linear(features, 64),\n",
    "  nn.ReLU(),\n",
    "  nn.Linear(64, classes)\n",
    "  \n",
    "  #НЕ НУЖНЕН СОФТМАКС\n",
    ")\n",
    "print(features)\n",
    "# It is the same as:\n",
    "#\n",
    "# model = nn.Sequential()\n",
    "# model.add_module('0', nn.Linear(features, 64))\n",
    "# model.add_module('1', nn.Linear(64, classes))\n",
    "\n",
    "model.to(\"cpu\")"
   ],
   "execution_count": 19,
   "outputs": [
    {
     "name": "stdout",
     "output_type": "stream",
     "text": [
      "784\n"
     ]
    },
    {
     "data": {
      "text/plain": "Sequential(\n  (0): Linear(in_features=784, out_features=64, bias=True)\n  (1): ReLU()\n  (2): Linear(in_features=64, out_features=10, bias=True)\n)"
     },
     "execution_count": 19,
     "metadata": {},
     "output_type": "execute_result"
    }
   ]
  },
  {
   "cell_type": "markdown",
   "metadata": {
    "id": "jb4dP98KxQI8"
   },
   "source": [
    "Проверить, все ли в порядке со скрытыми слоями, можно с помощью `torchsummary.summary`. Форма входных данных необходима для визуализации модели."
   ]
  },
  {
   "cell_type": "code",
   "metadata": {
    "id": "BiZ3fQBnxNvh",
    "colab": {
     "base_uri": "https://localhost:8080/"
    },
    "executionInfo": {
     "status": "ok",
     "timestamp": 1634752215711,
     "user_tz": -180,
     "elapsed": 652,
     "user": {
      "displayName": "Александр Анатольевич Миленькин",
      "photoUrl": "https://lh3.googleusercontent.com/a-/AOh14Gh1yB_mGyNeEBrnQ_bFdA3CLdWCnTPdtAORppSkYg=s64",
      "userId": "12111341805146772458"
     }
    },
    "outputId": "89c1169d-28ab-403c-fb23-5671cc649a8c"
   },
   "source": [
    "summary(model, (features,), batch_size=228)"
   ],
   "execution_count": 20,
   "outputs": [
    {
     "name": "stdout",
     "output_type": "stream",
     "text": [
      "----------------------------------------------------------------\n",
      "        Layer (type)               Output Shape         Param #\n",
      "================================================================\n",
      "            Linear-1                  [228, 64]          50,240\n",
      "              ReLU-2                  [228, 64]               0\n",
      "            Linear-3                  [228, 10]             650\n",
      "================================================================\n",
      "Total params: 50,890\n",
      "Trainable params: 50,890\n",
      "Non-trainable params: 0\n",
      "----------------------------------------------------------------\n",
      "Input size (MB): 0.68\n",
      "Forward/backward pass size (MB): 0.24\n",
      "Params size (MB): 0.19\n",
      "Estimated Total Size (MB): 1.12\n",
      "----------------------------------------------------------------\n"
     ]
    }
   ]
  },
  {
   "cell_type": "markdown",
   "metadata": {
    "id": "nfjR9itOwPO5"
   },
   "source": [
    "## Обучение\n",
    "\n",
    "Как известно, при решении проблемы важны следующие **3 вещи**:\n",
    "\n",
    "1. Модель\n",
    "2. Цель (функция потерь / loss)\n",
    "3. Оптимизация (для параметров модели)\n",
    "\n",
    "Хорошо, все, что мы должны делать при использовании PyTorch, - это** определить следующие 3 вещи**:\n",
    "\n",
    "1. Модель: из API `nn.Module`\n",
    "2. Функция потерь (loss): опять же, `nn.Module` или [` nn.functional`] (https://pytorch.org/docs/stable/nn.functional.html) API.\n",
    "3. Оптимизатор: основан на [`torch.optim.Optimizer`] (https://pytorch.org/docs/stable/optim.html).\n",
    "\n",
    "\n",
    "\n",
    "В предыдущих задачах, когда дело доходило до оптимизации параметров, мы использовали **явное решения или градиентный спуск**\n",
    "\n",
    "Конечно, есть множество улучшений градиентного спуска. Он может использовать **адаптивное значение шага**, **градиенты предыдущего шага** и другие. PyTorch также предоставляет несколько классов для оптимизации градиента. Они инициализируются с параметрами, которые они должны настроить для лучшего значения потерь, и во время спуска они делают шаг в методе спуска на основе градиента.\n",
    "\n",
    "Вот наиболее часто используемые оптимизаторы, на основе которых используется алгоритм спуска:\n",
    "\n",
    "- `torch.optim.Adam` использует как второй, так и первый импульс градиента, очень популярный благодаря своей скорости сходимости и простоте. [бумага] (https://arxiv.org/abs/1412.6980)\n",
    "\n",
    "- `torch.optim.SGD` - старый добрый стохастический градиентный спуск. Может использоваться с оптимизацией импульса Нестерова\n",
    "\n",
    "- `torch.optim.Adagrad` - [статья] (https://jmlr.org/papers/v12/duchi11a.html)\n",
    "\n",
    "- `torch.optim.RMSprop` - введено в [слайды] (https://www.cs.toronto.edu/~tijmen/csc321/slides/lecture_slides_lec6.pdf)\n"
   ]
  },
  {
   "cell_type": "markdown",
   "metadata": {
    "id": "_joC4G5v3M1J"
   },
   "source": [
    "Сначала определим последние 2 вещи: критерий и оптимизатор."
   ]
  },
  {
   "cell_type": "code",
   "metadata": {
    "id": "QrEObxR2r67C",
    "executionInfo": {
     "status": "ok",
     "timestamp": 1634752362321,
     "user_tz": -180,
     "elapsed": 619,
     "user": {
      "displayName": "Александр Анатольевич Миленькин",
      "photoUrl": "https://lh3.googleusercontent.com/a-/AOh14Gh1yB_mGyNeEBrnQ_bFdA3CLdWCnTPdtAORppSkYg=s64",
      "userId": "12111341805146772458"
     }
    }
   },
   "source": [
    "criterion = nn.CrossEntropyLoss()      # (logsoftmax + negative likelihood) в своей основе применительно к логитам (logits)\n",
    "\n",
    "optimizer = torch.optim.Adam(model.parameters(), lr=1e-3, betas=(0.9, 0.99))"
   ],
   "execution_count": 21,
   "outputs": []
  },
  {
   "cell_type": "markdown",
   "metadata": {
    "id": "PqXeZ4Gu4XuE"
   },
   "source": [
    "Наконец, мы переходим в **циклу обучения**!\n",
    "\n",
    "Ранее мы итерировались по эпохам и батчам (batch) (это называется обучающим циклом). Итак, давайте повторим это здесь"
   ]
  },
  {
   "cell_type": "code",
   "metadata": {
    "id": "k_meINtk45pO",
    "executionInfo": {
     "status": "ok",
     "timestamp": 1634752363029,
     "user_tz": -180,
     "elapsed": 2,
     "user": {
      "displayName": "Александр Анатольевич Миленькин",
      "photoUrl": "https://lh3.googleusercontent.com/a-/AOh14Gh1yB_mGyNeEBrnQ_bFdA3CLdWCnTPdtAORppSkYg=s64",
      "userId": "12111341805146772458"
     }
    }
   },
   "source": [
    "epochs = 3\n",
    "history = []"
   ],
   "execution_count": 22,
   "outputs": []
  },
  {
   "cell_type": "code",
   "metadata": {
    "id": "sc6CbL4p45pY",
    "colab": {
     "base_uri": "https://localhost:8080/"
    },
    "executionInfo": {
     "status": "ok",
     "timestamp": 1634752401387,
     "user_tz": -180,
     "elapsed": 36756,
     "user": {
      "displayName": "Александр Анатольевич Миленькин",
      "photoUrl": "https://lh3.googleusercontent.com/a-/AOh14Gh1yB_mGyNeEBrnQ_bFdA3CLdWCnTPdtAORppSkYg=s64",
      "userId": "12111341805146772458"
     }
    },
    "outputId": "e6f0849b-5111-487c-a32f-619115c8b030"
   },
   "source": [
    "for i in range(epochs):\n",
    "  for x_batch, y_batch in train_loader:\n",
    "    # 1. # загружаем батч данных (вытянутый в линию)\n",
    "    # print(x_batch.shape)\n",
    "    x_batch = x_batch.view(x_batch.shape[0], -1).to(\"cpu\")\n",
    "    y_batch = y_batch.to(\"cpu\")\n",
    "\n",
    "    # 2. вычисляем скор с помощью прямого распространения ( .forward or .__call__ )\n",
    "    logits = model(x_batch)\n",
    "\n",
    "    # 3. вычислеяем - функцию потерь (loss)\n",
    "    loss = criterion(logits, y_batch)\n",
    "    history.append(loss.item())\n",
    "\n",
    "    # 4. вычисляем градиенты\n",
    "    optimizer.zero_grad()\n",
    "    loss.backward()\n",
    "\n",
    "    # 5. шаг градиентного спуска\n",
    "    optimizer.step()\n",
    "\n",
    "  print(f'{i+1},\\t loss: {history[-1]}')"
   ],
   "execution_count": 25,
   "outputs": [
    {
     "name": "stdout",
     "output_type": "stream",
     "text": [
      "1,\t loss: 0.040724147111177444\n",
      "2,\t loss: 0.026928432285785675\n",
      "3,\t loss: 0.02091325633227825\n"
     ]
    }
   ]
  },
  {
   "cell_type": "markdown",
   "metadata": {
    "id": "0Jot--gp5xEy"
   },
   "source": [
    "построим график изменения точности просто для проверки правильности."
   ]
  },
  {
   "cell_type": "code",
   "metadata": {
    "id": "IePLJ3uq5u6H",
    "executionInfo": {
     "status": "ok",
     "timestamp": 1634752512900,
     "user_tz": -180,
     "elapsed": 1077,
     "user": {
      "displayName": "Александр Анатольевич Миленькин",
      "photoUrl": "https://lh3.googleusercontent.com/a-/AOh14Gh1yB_mGyNeEBrnQ_bFdA3CLdWCnTPdtAORppSkYg=s64",
      "userId": "12111341805146772458"
     }
    }
   },
   "source": [
    "import matplotlib.pyplot as plt"
   ],
   "execution_count": 26,
   "outputs": []
  },
  {
   "cell_type": "code",
   "metadata": {
    "id": "mq6vkP095u6L",
    "colab": {
     "base_uri": "https://localhost:8080/",
     "height": 458
    },
    "executionInfo": {
     "status": "ok",
     "timestamp": 1634752512907,
     "user_tz": -180,
     "elapsed": 23,
     "user": {
      "displayName": "Александр Анатольевич Миленькин",
      "photoUrl": "https://lh3.googleusercontent.com/a-/AOh14Gh1yB_mGyNeEBrnQ_bFdA3CLdWCnTPdtAORppSkYg=s64",
      "userId": "12111341805146772458"
     }
    },
    "outputId": "6d332b29-90c1-4eb6-b1e7-31b1c2621e9c"
   },
   "source": [
    "plt.figure(figsize=(10, 7))\n",
    "\n",
    "plt.plot(history)\n",
    "\n",
    "plt.title('Loss by batch iterations')\n",
    "plt.ylabel('Entropy Loss')\n",
    "plt.xlabel('batches')\n",
    "\n",
    "plt.show()"
   ],
   "execution_count": 27,
   "outputs": [
    {
     "data": {
      "text/plain": "<Figure size 720x504 with 1 Axes>",
      "image/png": "[encoded data removed]"
     },
     "metadata": {
      "needs_background": "light"
     },
     "output_type": "display_data"
    }
   ]
  },
  {
   "cell_type": "markdown",
   "metadata": {
    "id": "tekBJ55N5u6O"
   },
   "source": [
    "Некоторые метрики качества для нашей двух-слойной модели"
   ]
  },
  {
   "cell_type": "code",
   "metadata": {
    "id": "ZqoMcdz75u6O",
    "executionInfo": {
     "status": "ok",
     "timestamp": 1634752522054,
     "user_tz": -180,
     "elapsed": 601,
     "user": {
      "displayName": "Александр Анатольевич Миленькин",
      "photoUrl": "https://lh3.googleusercontent.com/a-/AOh14Gh1yB_mGyNeEBrnQ_bFdA3CLdWCnTPdtAORppSkYg=s64",
      "userId": "12111341805146772458"
     }
    }
   },
   "source": [
    "from sklearn.metrics import accuracy_score"
   ],
   "execution_count": 28,
   "outputs": []
  },
  {
   "cell_type": "code",
   "metadata": {
    "id": "051KxUi_5u6Q",
    "colab": {
     "base_uri": "https://localhost:8080/"
    },
    "executionInfo": {
     "status": "ok",
     "timestamp": 1634752524555,
     "user_tz": -180,
     "elapsed": 1835,
     "user": {
      "displayName": "Александр Анатольевич Миленькин",
      "photoUrl": "https://lh3.googleusercontent.com/a-/AOh14Gh1yB_mGyNeEBrnQ_bFdA3CLdWCnTPdtAORppSkYg=s64",
      "userId": "12111341805146772458"
     }
    },
    "outputId": "fff09f1f-1b8c-4860-e7e9-bb73729e032b"
   },
   "source": [
    "acc = 0\n",
    "batches = 0\n",
    "\n",
    "for x_batch, y_batch in test_loader:\n",
    "  # загружаем батч данных (вытянутый в линию)\n",
    "  batches += 1\n",
    "  x_batch = x_batch.view(x_batch.shape[0], -1).to(\"cpu\")\n",
    "  y_batch = y_batch.to(\"cpu\")\n",
    "\n",
    "  preds = torch.argmax(model(x_batch), dim=1)\n",
    "  acc += (preds==y_batch).cpu().numpy().mean()\n",
    "\n",
    "print(f'Test accuracy {acc / batches:.3}')"
   ],
   "execution_count": 30,
   "outputs": [
    {
     "name": "stdout",
     "output_type": "stream",
     "text": [
      "Test accuracy 0.95\n"
     ]
    }
   ]
  },
  {
   "cell_type": "markdown",
   "metadata": {
    "id": "wh14WDiz6KKe"
   },
   "source": [
    "## Резюмируем!\n",
    "\n",
    "Мы построили и обучили простейшую нейронную сеть. Это было сделано путем определения:\n",
    "\n",
    "1. `Модели`\n",
    "2. \"Критерия (Лосса)\"\n",
    "1. `Оптимизатора`\n",
    "\n",
    "Запомните эти шаги, необходимые во время обучения одного батча данных:\n",
    "\n",
    "1. загрузить батч\n",
    "2. выполнить прямой проход модели (получить «логиты» / выходы модели)\n",
    "3. рассчитать `loss` (используя критерий и «логиты» и истинные метки партии)\n",
    "4. выполнить `loss.backward ()` (вычислить градиенты функции потери относительно параметров модели)\n",
    "5. выполнить шаг оптимизации (`optimizer.step ()`)\n",
    "* обнуляйте градиенты (производите в любой момент, но не между шагами 4 и 5)\n",
    "* проверка (валидация) (после каждой эпохи)\n",
    "\n"
   ]
  },
  {
   "cell_type": "code",
   "metadata": {
    "id": "OW14I7DorFEf"
   },
   "source": [
    ""
   ],
   "execution_count": null,
   "outputs": []
  }
 ]
}